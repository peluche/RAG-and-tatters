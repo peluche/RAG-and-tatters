{
 "cells": [
  {
   "cell_type": "markdown",
   "metadata": {},
   "source": [
    "# RAG and tatters"
   ]
  },
  {
   "cell_type": "markdown",
   "metadata": {},
   "source": [
    "Threadbare implementation of RAG."
   ]
  },
  {
   "cell_type": "markdown",
   "metadata": {},
   "source": [
    "## setup"
   ]
  },
  {
   "cell_type": "code",
   "execution_count": 2,
   "metadata": {},
   "outputs": [
    {
     "name": "stdout",
     "output_type": "stream",
     "text": [
      "Note: you may need to restart the kernel to use updated packages.\n"
     ]
    }
   ],
   "source": [
    "%pip install -q ipywidgets html2text langchain langchain_community sentence-transformers "
   ]
  },
  {
   "cell_type": "code",
   "execution_count": 261,
   "metadata": {},
   "outputs": [],
   "source": [
    "from langchain_community.embeddings import HuggingFaceEmbeddings\n",
    "import torch as t\n",
    "\n",
    "from bs4 import BeautifulSoup\n",
    "import matplotlib.pyplot as plt\n",
    "import random\n",
    "import heapq\n",
    "import requests\n",
    "import html2text"
   ]
  },
  {
   "cell_type": "markdown",
   "metadata": {},
   "source": [
    "### utils"
   ]
  },
  {
   "cell_type": "code",
   "execution_count": 34,
   "metadata": {},
   "outputs": [],
   "source": [
    "def wikipedia_to_markdown(url):\n",
    "    response = requests.get(url)\n",
    "    soup = BeautifulSoup(response.content, 'html.parser')\n",
    "    content = soup.find('div', {'class': 'mw-parser-output'})\n",
    "    return html2text.html2text(str(content))"
   ]
  },
  {
   "cell_type": "code",
   "execution_count": 35,
   "metadata": {},
   "outputs": [],
   "source": [
    "def scope():\n",
    "    embeddings = HuggingFaceEmbeddings()\n",
    "    def get_embedding(text):\n",
    "        return t.tensor(embeddings.embed_query(text))\n",
    "    return get_embedding\n",
    "\n",
    "get_embedding = scope()"
   ]
  },
  {
   "cell_type": "markdown",
   "metadata": {},
   "source": [
    "## document chunking"
   ]
  },
  {
   "cell_type": "markdown",
   "metadata": {},
   "source": [
    "One option is to ingest full documents, another is to chunk them into smaller pieces. Let's compare different schemes of document chunking."
   ]
  },
  {
   "cell_type": "code",
   "execution_count": 36,
   "metadata": {},
   "outputs": [],
   "source": [
    "document = wikipedia_to_markdown('https://en.wikipedia.org/wiki/Magician_(fantasy)')"
   ]
  },
  {
   "cell_type": "markdown",
   "metadata": {},
   "source": [
    "### fixed size"
   ]
  },
  {
   "cell_type": "markdown",
   "metadata": {},
   "source": [
    "Split the text into fixed size chunks. For simplicity I'll fix the size in characters, but it would be smarter to split by amount of tokens instead."
   ]
  },
  {
   "cell_type": "code",
   "execution_count": 37,
   "metadata": {},
   "outputs": [
    {
     "data": {
      "text/plain": [
       "['Magicians appearing in fantasy fiction\\n\\nFor other uses, see [Magician\\n(disambiguation)](/wiki/Magici',\n",
       " 'an_\\\\(disambiguation\\\\) \"Magician\\n\\\\(disambiguation\\\\)\") and [Magi (disambiguation)](/wiki/Magi_\\\\(disamb',\n",
       " 'iguation\\\\)\\n\"Magi \\\\(disambiguation\\\\)\").\\n\\n\"Wizard (fantasy)\" redirects here. For other uses, see [Wiza',\n",
       " 'rd\\n(disambiguation)](/wiki/Wizard_\\\\(disambiguation\\\\) \"Wizard\\n\\\\(disambiguation\\\\)\").\\n\\n[![](//upload.wi']"
      ]
     },
     "execution_count": 37,
     "metadata": {},
     "output_type": "execute_result"
    }
   ],
   "source": [
    "def chunk_fixed_size(text, size):\n",
    "    return [text[i:i+size] for i in range(0, len(text), size)]\n",
    "\n",
    "chunks = chunk_fixed_size(document, 100)\n",
    "chunks[:4]"
   ]
  },
  {
   "cell_type": "code",
   "execution_count": 38,
   "metadata": {},
   "outputs": [
    {
     "data": {
      "text/plain": [
       "['Magicians appearing in fantasy fiction\\n\\nFor other uses, see [Magician\\n(disambiguation)](/wiki/Magici',\n",
       " 'iki/Magician_\\\\(disambiguation\\\\) \"Magician\\n\\\\(disambiguation\\\\)\") and [Magi (disambiguation)](/wiki/Mag',\n",
       " '(/wiki/Magi_\\\\(disambiguation\\\\)\\n\"Magi \\\\(disambiguation\\\\)\").\\n\\n\"Wizard (fantasy)\" redirects here. For o',\n",
       " 'ere. For other uses, see [Wizard\\n(disambiguation)](/wiki/Wizard_\\\\(disambiguation\\\\) \"Wizard\\n\\\\(disambi']"
      ]
     },
     "execution_count": 38,
     "metadata": {},
     "output_type": "execute_result"
    }
   ],
   "source": [
    "def chunk_fixed_size_overlap(text, size, overlap):\n",
    "    return [text[i:i+size] for i in range(0, len(text), size - overlap)]\n",
    "\n",
    "chunks = chunk_fixed_size_overlap(document, 100, 10)\n",
    "chunks[:4]"
   ]
  },
  {
   "cell_type": "markdown",
   "metadata": {},
   "source": [
    "### recursive character split"
   ]
  },
  {
   "cell_type": "markdown",
   "metadata": {},
   "source": [
    "Split on a hierarchy of specific landmarks (e.g. `'\\n\\n'`, `'\\n'`, `' '`) until we reach the desired size. This is meant to preserve more structure than simple fixed size split."
   ]
  },
  {
   "cell_type": "code",
   "execution_count": 49,
   "metadata": {},
   "outputs": [
    {
     "data": {
      "text/plain": [
       "['Magicians appearing in fantasy fiction\\n\\n',\n",
       " 'For other uses, see [Magician\\n(disambiguation)](/wiki/Magician_\\\\(disambiguation\\\\) \"Magician\\n',\n",
       " '\\\\(disambiguation\\\\)\") and [Magi (disambiguation)](/wiki/Magi_\\\\(disambiguation\\\\)\\n',\n",
       " '\"Magi \\\\(disambiguation\\\\)\").\\n\\n']"
      ]
     },
     "execution_count": 49,
     "metadata": {},
     "output_type": "execute_result"
    }
   ],
   "source": [
    "def chunk_recursive_character_split(text, size, separators=['\\n\\n', '\\n', ' ']):\n",
    "    if len(text) <= size: return [text]\n",
    "    for separator in separators + ['']:\n",
    "        if (index := text[:size].rfind(separator)) != -1:\n",
    "            index += len(separator)\n",
    "            return [text[:index]] + chunk_recursive_character_split(text[index:], size, separators)\n",
    "\n",
    "chunks = chunk_recursive_character_split(document, 100)\n",
    "chunks[:4]"
   ]
  },
  {
   "cell_type": "markdown",
   "metadata": {},
   "source": [
    "### document specific splitting"
   ]
  },
  {
   "cell_type": "markdown",
   "metadata": {},
   "source": [
    "Split based on the document specific grammar (e.g. markdown, HTML, PDF ...)."
   ]
  },
  {
   "cell_type": "code",
   "execution_count": 40,
   "metadata": {},
   "outputs": [
    {
     "data": {
      "text/plain": [
       "['',\n",
       " '\\n# The Enigmatic Life of Wizard Eldrath\\n',\n",
       " '\\n## Introduction',\n",
       " '\\nEldrath the Wise, a wizard of great renown, has fascinated scholars and adventurers alike with his',\n",
       " ' mysterious powers and secretive nature.\\n',\n",
       " '\\n## Notable Achievements',\n",
       " '\\nEldrath is known for many great deeds, including the discovery of the lost city of Aranthar and',\n",
       " ' the creation of the spell of eternal light.\\n',\n",
       " '```\\ndef eternal_light():\\n    while True:\\n        light_spell.cast()\\n',\n",
       " '```\\nWhich remains one of the most powerful enchantments in existence.\\n']"
      ]
     },
     "execution_count": 40,
     "metadata": {},
     "output_type": "execute_result"
    }
   ],
   "source": [
    "def chunk_markdown(text, size, offset=0):\n",
    "    ''' piggyback on recursive character split for the demo but it should use a markdown parser '''\n",
    "    separators = [\n",
    "        '\\n# ', '\\n## ', '\\n### ', '\\n#### ', '\\n##### ', '\\n###### ', # headings\n",
    "        '```\\n', '\\n\\n', # blocks\n",
    "        '\\n', '`', '[', ']', '(', ')', '*', '_', # inline\n",
    "        ' ', # words\n",
    "    ]\n",
    "    if len(text) <= size: return [text]\n",
    "    for separator in separators + ['']:\n",
    "        if (index := text[offset:size].rfind(separator)) != -1:\n",
    "            index += offset\n",
    "            return [text[:index]] + chunk_markdown(text[index:], size, offset=len(separator))\n",
    "\n",
    "doc = '''\n",
    "# The Enigmatic Life of Wizard Eldrath\n",
    "\n",
    "## Introduction\n",
    "Eldrath the Wise, a wizard of great renown, has fascinated scholars and adventurers alike with his mysterious powers and secretive nature.\n",
    "\n",
    "## Notable Achievements\n",
    "Eldrath is known for many great deeds, including the discovery of the lost city of Aranthar and the creation of the spell of eternal light.\n",
    "```\n",
    "def eternal_light():\n",
    "    while True:\n",
    "        light_spell.cast()\n",
    "```\n",
    "Which remains one of the most powerful enchantments in existence.\n",
    "'''\n",
    "chunks = chunk_markdown(doc, 100)\n",
    "chunks[:10]"
   ]
  },
  {
   "cell_type": "markdown",
   "metadata": {},
   "source": [
    "### semantic splitting"
   ]
  },
  {
   "cell_type": "markdown",
   "metadata": {},
   "source": [
    "Split the document based on meaning. A naive aproach is to split the document into sentences (here I'll re-use recursive character split) compute their embeddings. Use the embeddings to find topics boundary in the text and merge the rest together."
   ]
  },
  {
   "cell_type": "code",
   "execution_count": 119,
   "metadata": {},
   "outputs": [],
   "source": [
    "def cluster_chunks(chunks, indices, size=500):\n",
    "    ''' cluster chunks such that:\n",
    "      - each cluster is smaller or equal to size\n",
    "      - chunks are clustered according to their relative similarities\n",
    "    '''\n",
    "    indices = [i + 1 for i in indices] # shift to the right\n",
    "\n",
    "    def rec(start, end, idx=0):\n",
    "        # shortcircuit if the entire chunk fits\n",
    "        if sum(len(c) for c in chunks[start:end]) <= size:\n",
    "            return [''.join(chunks[start:end])]\n",
    "        for i in range(idx, len(indices)):\n",
    "            index = indices[i]\n",
    "            if start < index < end:\n",
    "                return rec(start, index, i + 1) + rec(index, end, i + 1)\n",
    "    \n",
    "    return rec(0, len(chunks))\n",
    "\n",
    "def test_cluster_chunks_size():\n",
    "    chunks = ['a', 'b', 'c', 'd', 'e', 'f', 'g', 'h', 'i', 'j']\n",
    "    indices = [2, 5, 8, 1, 0, 3, 6, 4, 7]\n",
    "    assert cluster_chunks(chunks, indices, size=1) == ['a', 'b', 'c', 'd', 'e', 'f', 'g', 'h', 'i', 'j']\n",
    "    assert cluster_chunks(chunks, indices, size=2) == ['ab', 'c', 'd', 'ef', 'g', 'hi', 'j']\n",
    "    assert cluster_chunks(chunks, indices, size=3) == ['abc', 'def', 'ghi', 'j']\n",
    "    assert cluster_chunks(chunks, indices, size=4) == ['abc', 'def', 'ghij']\n",
    "    assert cluster_chunks(chunks, indices, size=7) == ['abc', 'defghij']\n",
    "    assert cluster_chunks(chunks, indices, size=10) == ['abcdefghij']\n",
    "\n",
    "test_cluster_chunks_size()"
   ]
  },
  {
   "cell_type": "code",
   "execution_count": 120,
   "metadata": {},
   "outputs": [
    {
     "data": {
      "text/plain": [
       "['Magicians appearing in fantasy fiction\\n\\nFor other uses, see [Magician\\n(disambiguation)](/wiki/Magician_\\\\(disambiguation\\\\) \"Magician\\n\\\\(disambiguation\\\\)\") and [Magi (disambiguation)](/wiki/Magi_\\\\(disambiguation\\\\)\\n\"Magi \\\\(disambiguation\\\\)\").\\n\\n',\n",
       " '\"Wizard (fantasy)\" redirects here. For other uses, see [Wizard\\n(disambiguation)](/wiki/Wizard_\\\\(disambiguation\\\\) \"Wizard\\n\\\\(disambiguation\\\\)\").\\n\\n[![](//upload.wikimedia.org/wikipedia/en/thumb/9/99/Question_book-\\nnew.svg/50px-Question_book-new.svg.png)](/wiki/File:Question_book-new.svg)|\\n',\n",
       " 'This article **needs additional citations\\n',\n",
       " 'for[verification](/wiki/Wikipedia:Verifiability \"Wikipedia:Verifiability\")**.\\n']"
      ]
     },
     "execution_count": 120,
     "metadata": {},
     "output_type": "execute_result"
    }
   ],
   "source": [
    "def chunk_semantic(text, size=100):\n",
    "    mini_chunks = chunk_recursive_character_split(text, size)\n",
    "    embeddings = [get_embedding(c) for c in mini_chunks]\n",
    "    similarities = t.cosine_similarity(t.stack(embeddings[:-1]), t.stack(embeddings[1:]))\n",
    "    _, indices = t.sort(similarities)\n",
    "    return cluster_chunks(mini_chunks, indices)\n",
    "\n",
    "chunks = chunk_semantic(document)\n",
    "chunks[:4]"
   ]
  },
  {
   "cell_type": "markdown",
   "metadata": {},
   "source": [
    "## document retrieval"
   ]
  },
  {
   "cell_type": "code",
   "execution_count": 226,
   "metadata": {},
   "outputs": [],
   "source": [
    "# create a dummy database for our embegginds / chunks pairs\n",
    "def create_db(documents):\n",
    "    chunks = [chunk for document in documents for chunk in chunk_recursive_character_split(document, 100)]\n",
    "    db = t.stack([get_embedding(chunk) for chunk in chunks])\n",
    "    return chunks, db\n",
    "\n",
    "chunks, db = create_db([document])"
   ]
  },
  {
   "cell_type": "markdown",
   "metadata": {},
   "source": [
    "### exhaustive search"
   ]
  },
  {
   "cell_type": "code",
   "execution_count": 157,
   "metadata": {},
   "outputs": [
    {
     "name": "stdout",
     "output_type": "stream",
     "text": [
      "['  * _[Dungeons& Dragons](/wiki/Dungeons_%26_Dragons \"Dungeons & Dragons\")_\\n', 'the _[Dungeons& Dragons](/wiki/Dungeons_%26_Dragons \"Dungeons & Dragons\")_\\n']\n",
      "[]\n",
      "['Pyle_The_Enchanter_Merlin.JPG)_The Enchanter Merlin_ , by [Howard\\n', 'Pyle_The_Enchanter_Merlin.JPG/170px-Arthur-\\nPyle_The_Enchanter_Merlin.JPG)](/wiki/File:Arthur-\\n', '\"Mentor\"), with [Merlin](/wiki/Merlin \"Merlin\") from the [_King Arthur_\\n']\n",
      "['series of books by [J. K. Rowling](/wiki/J._K._Rowling \"J. K. Rowling\").\\n\\n', 'the Rings_ or [Lord Voldemort](/wiki/Lord_Voldemort \"Lord Voldemort\") from\\n', 'Lord of the Rings](/wiki/The_Lord_of_the_Rings \"The Lord of the Rings\")_ and\\n']\n"
     ]
    }
   ],
   "source": [
    "def retrieve(query, k=3, threshold=0.5):\n",
    "    query_embedding = get_embedding(query)\n",
    "    similarities = t.cosine_similarity(db, query_embedding)\n",
    "    values, indices = t.topk(similarities, k=k)\n",
    "    indices = indices[values > threshold]\n",
    "    return [chunks[i] for i in indices]\n",
    "\n",
    "print(retrieve('dnd'))\n",
    "print(retrieve('banana'))\n",
    "print(retrieve('merlin the enchanter'))\n",
    "print(retrieve('harry potter'))"
   ]
  },
  {
   "cell_type": "markdown",
   "metadata": {},
   "source": [
    "### approximate nearest neighborg (ANN): navigable small worlds (NSW)"
   ]
  },
  {
   "cell_type": "markdown",
   "metadata": {},
   "source": [
    "Instead of doing exhaustive search `O(n)` we can perform an approximate nearest neighborg search using a greedy approach with navigable small world `O(log(n))`"
   ]
  },
  {
   "cell_type": "code",
   "execution_count": 239,
   "metadata": {},
   "outputs": [],
   "source": [
    "class Node:\n",
    "    def __init__(self, idx, embedding, neighbors=None):\n",
    "        self.idx = idx\n",
    "        self.embedding = embedding\n",
    "        self.neighbors = set(neighbors) if neighbors else set()\n",
    "\n",
    "    def __lt__(self, other): # add a way to sort nodes to make the heapq happy\n",
    "        return self.idx < other.idx\n",
    "\n",
    "    def __repr__(self):\n",
    "        return f'{self.idx} {self.neighbors=}'\n",
    "\n",
    "def compute_dist(node, target):\n",
    "    return 1 - t.cosine_similarity(node.embedding, target, dim=0)\n",
    "\n",
    "def greedy_nearest_neighbor(graph, node, target, compute_dist=compute_dist):\n",
    "    steps = []\n",
    "    mini = compute_dist(node, target)\n",
    "    \n",
    "    while True:\n",
    "        best = None\n",
    "        for neighbor in node.neighbors:\n",
    "            neighbor = graph[neighbor]\n",
    "            dist = compute_dist(neighbor, target)\n",
    "            if dist < mini:\n",
    "                mini = dist\n",
    "                best = neighbor\n",
    "        steps.append(node.idx)\n",
    "        if not best: return steps, mini, node\n",
    "        node = best\n",
    "\n",
    "def test_greedy_nearest_neighbor():\n",
    "    def mock_dist(node, target):\n",
    "        ''' use the absolute difference as a distance function to make testing easier '''\n",
    "        return abs(node.embedding - target)\n",
    "\n",
    "    # pretend we have 10 nodes in a line:\n",
    "    # - each node is connected to it's 2 closest neighbors and a random further node\n",
    "    # - values are artificially tweeked to prevent ties\n",
    "    # \n",
    "    # e.g. node 1 is connected to nodes 0, 2, 8\n",
    "    # 0--1--2--3--4--5--6--7--8--9\n",
    "    # ↑  |  ↑                 ↑\n",
    "    # └──┤  |                 |\n",
    "    #    ├──┘                 |\n",
    "    #    └────────────────────┘\n",
    "    graph = [\n",
    "        Node(0, 0,           [1, 2, 7]),\n",
    "        Node(1, 1.1,         [0, 2, 8]),\n",
    "        Node(2, 2.01,        [1, 3, 8]),\n",
    "        Node(3, 3.001,       [2, 4, 6]),\n",
    "        Node(4, 4.0001,      [3, 5, 9]),\n",
    "        Node(5, 5.00001,     [4, 6, 2]),\n",
    "        Node(6, 6.000001,    [5, 7, 2]),\n",
    "        Node(7, 7.0000001,   [6, 8, 0]),\n",
    "        Node(8, 8.00000001,  [7, 9, 5]),\n",
    "        Node(9, 9.000000001, [7, 8, 4]),\n",
    "    ]\n",
    "    # don't test distances because floating numbers are messy and it's not important here\n",
    "    steps, _, nearest = greedy_nearest_neighbor(graph, graph[0], 5, mock_dist)\n",
    "    assert (steps, nearest) == ([0, 7, 6, 5], graph[5])\n",
    "    steps, _, nearest = greedy_nearest_neighbor(graph, graph[0], 8, mock_dist)\n",
    "    assert (steps, nearest) == ([0, 7, 8], graph[8])\n",
    "    steps, _, nearest = greedy_nearest_neighbor(graph, graph[3], 3, mock_dist)\n",
    "    assert (steps, nearest) == ([3], graph[3])\n",
    "    steps, _, nearest = greedy_nearest_neighbor(graph, graph[3], 9, mock_dist)\n",
    "    assert (steps, nearest) == ([3, 6, 7, 8, 9], graph[9])\n",
    "    steps, _, nearest = greedy_nearest_neighbor(graph, graph[5], 1, mock_dist)\n",
    "    assert (steps, nearest) == ([5, 2, 1], graph[1])\n",
    "\n",
    "test_greedy_nearest_neighbor()"
   ]
  },
  {
   "cell_type": "code",
   "execution_count": 257,
   "metadata": {},
   "outputs": [],
   "source": [
    "def greedy_k_nearest_neighbors(graph, node, target, k=3, compute_dist=compute_dist):\n",
    "    seen = set([node.idx])\n",
    "    dist = compute_dist(node, target)\n",
    "    nearests = [(-dist, node)] # treat as a maxheap with bounded size `k`\n",
    "    q = [(dist, node)] # minheap\n",
    "    \n",
    "    while q:\n",
    "        _, node = heapq.heappop(q)\n",
    "        # print(f'step: {node}')\n",
    "\n",
    "        for neighbor_idx in node.neighbors:\n",
    "            # print(f'neighbor {neighbor_idx}')\n",
    "            if neighbor_idx in seen: continue\n",
    "            neighbor = graph[neighbor_idx]\n",
    "            dist = compute_dist(neighbor, target)\n",
    "            if len(nearests) < k:\n",
    "                # print(f'push {neighbor_idx}')\n",
    "                heapq.heappush(nearests, (-dist, neighbor))\n",
    "            elif dist < -nearests[0][0]:\n",
    "                # print(f'replace {neighbor_idx}')\n",
    "                heapq.heapreplace(nearests, (-dist, neighbor))\n",
    "            else:\n",
    "                # print(f'continue {neighbor_idx}')\n",
    "                continue\n",
    "            seen.add(neighbor_idx)\n",
    "            heapq.heappush(q, (dist, neighbor))\n",
    "    return [n[1] for n in nearests]\n",
    "\n",
    "def test_greedy_k_nearest_neighbors():\n",
    "    def mock_dist(node, target):\n",
    "        ''' use the absolute difference as a distance function to make testing easier '''\n",
    "        return abs(node.embedding - target)\n",
    "\n",
    "    # pretend we have 10 nodes in a line:\n",
    "    # - each node is connected to it's 2 closest neighbors and a random further node\n",
    "    # - values are artificially tweeked to prevent ties\n",
    "    # \n",
    "    # e.g. node 1 is connected to nodes 0, 2, 8\n",
    "    # 0--1--2--3--4--5--6--7--8--9\n",
    "    # ↑  |  ↑                 ↑\n",
    "    # └──┤  |                 |\n",
    "    #    ├──┘                 |\n",
    "    #    └────────────────────┘\n",
    "    graph = [\n",
    "        Node(0, 0,           [1, 2, 7]),\n",
    "        Node(1, 1.1,         [0, 2, 8]),\n",
    "        Node(2, 2.01,        [1, 3, 8]),\n",
    "        Node(3, 3.001,       [2, 4, 6]),\n",
    "        Node(4, 4.0001,      [3, 5, 9]),\n",
    "        Node(5, 5.00001,     [4, 6, 2]),\n",
    "        Node(6, 6.000001,    [5, 7, 2]),\n",
    "        Node(7, 7.0000001,   [6, 8, 0]),\n",
    "        Node(8, 8.00000001,  [7, 9, 5]),\n",
    "        Node(9, 9.000000001, [7, 8, 4]),\n",
    "    ]\n",
    "    # don't test distances because floating numbers are messy and it's not important here\n",
    "    # all the results should match greedy_nearest_neighbor when k=1\n",
    "    for node in range(10):\n",
    "        for target in range(10):\n",
    "            _, _, nearest = greedy_nearest_neighbor(graph, graph[node], target, compute_dist=mock_dist)\n",
    "            nearests = greedy_k_nearest_neighbors(graph, graph[node], target, k=1, compute_dist=mock_dist)\n",
    "            assert nearests == [nearest]\n",
    "\n",
    "    nearests = greedy_k_nearest_neighbors(graph, graph[0], 5, k=3, compute_dist= mock_dist)\n",
    "    assert set(nearests) == set([graph[4], graph[5], graph[6]])\n",
    "    nearests = greedy_k_nearest_neighbors(graph, graph[5], 5, k=3, compute_dist= mock_dist)\n",
    "    assert set(nearests) == set([graph[4], graph[5], graph[6]])\n",
    "    nearests = greedy_k_nearest_neighbors(graph, graph[0], 0, k=4, compute_dist= mock_dist)\n",
    "    assert set(nearests) == set([graph[0], graph[1], graph[2], graph[3]])\n",
    "    nearests = greedy_k_nearest_neighbors(graph, graph[9], 0, k=4, compute_dist= mock_dist)\n",
    "    assert set(nearests) == set([graph[0], graph[1], graph[2], graph[3]])\n",
    "\n",
    "test_greedy_k_nearest_neighbors()"
   ]
  },
  {
   "cell_type": "code",
   "execution_count": 251,
   "metadata": {},
   "outputs": [
    {
     "name": "stdout",
     "output_type": "stream",
     "text": [
      "average_neigbors_count=11.925339366515837\n"
     ]
    }
   ],
   "source": [
    "def build_nsw_graph(db, k_near=3, k_random=3):\n",
    "    '''\n",
    "    build a graph by piggybacking on the KNN search and random nodes for far away connections.\n",
    "    the way it is implemented early nodes will have more neighbors (this is not ideal but it'll do for a toy example).\n",
    "    '''\n",
    "    graph = []\n",
    "    # create node and add approximate nearest neighbors\n",
    "    for idx, embedding in enumerate(db):\n",
    "        node = Node(idx, embedding)\n",
    "        graph.append(node)\n",
    "        if not idx: continue\n",
    "        start_node = graph[random.randint(0, idx - 1)]\n",
    "        nearests = greedy_k_nearest_neighbors(graph, start_node, embedding, k=k_near)\n",
    "        for near in nearests:\n",
    "            node.neighbors.add(near.idx)\n",
    "            graph[near.idx].neighbors.add(idx)\n",
    "    # add random connections\n",
    "    for idx in range(len(db)):\n",
    "        for _ in range(k_random):\n",
    "            neighbor = random.randint(0, len(db) - 1)\n",
    "            graph[idx].neighbors.add(neighbor)\n",
    "            graph[neighbor].neighbors.add(idx)\n",
    "    return graph\n",
    "\n",
    "graph = build_nsw_graph(db)\n",
    "average_neigbors_count = sum([len(node.neighbors) for node in graph]) / len(graph)\n",
    "print(f'{average_neigbors_count=}')"
   ]
  },
  {
   "cell_type": "code",
   "execution_count": 260,
   "metadata": {},
   "outputs": [
    {
     "name": "stdout",
     "output_type": "stream",
     "text": [
      "['the _[Dungeons& Dragons](/wiki/Dungeons_%26_Dragons \"Dungeons & Dragons\")_\\n']\n",
      "[]\n",
      "['\"Mentor\"), with [Merlin](/wiki/Merlin \"Merlin\") from the [_King Arthur_\\n', 'Pyle_The_Enchanter_Merlin.JPG/170px-Arthur-\\nPyle_The_Enchanter_Merlin.JPG)](/wiki/File:Arthur-\\n', 'Pyle_The_Enchanter_Merlin.JPG)_The Enchanter Merlin_ , by [Howard\\n']\n",
      "['Rowling](/wiki/J._K._Rowling \"J. K. Rowling\")\\'s _Harry Potter_ novels or\\n', 'the Rings_ or [Lord Voldemort](/wiki/Lord_Voldemort \"Lord Voldemort\") from\\n', 'series of books by [J. K. Rowling](/wiki/J._K._Rowling \"J. K. Rowling\").\\n\\n']\n"
     ]
    }
   ],
   "source": [
    "def nsw_retrieve(query, k=3, threshold=0.5):\n",
    "    query_embedding = get_embedding(query)\n",
    "    start_node = graph[random.randint(0, len(graph) - 1)]\n",
    "    nearests = greedy_k_nearest_neighbors(graph, start_node, query_embedding, k=k)\n",
    "    res = []\n",
    "    for near in nearests:\n",
    "        if compute_dist(near, query_embedding) > threshold: continue\n",
    "        res.append(chunks[near.idx])\n",
    "    return res\n",
    "\n",
    "print(nsw_retrieve('dnd'))\n",
    "print(nsw_retrieve('banana'))\n",
    "print(nsw_retrieve('merlin the enchanter'))\n",
    "print(nsw_retrieve('harry potter'))"
   ]
  },
  {
   "cell_type": "code",
   "execution_count": 285,
   "metadata": {},
   "outputs": [
    {
     "data": {
      "image/png": "[encoded data removed]",
      "text/plain": [
       "<Figure size 640x480 with 1 Axes>"
      ]
     },
     "metadata": {},
     "output_type": "display_data"
    }
   ],
   "source": [
    "def plot_nsw(graph, edge_color='black', ax=None):\n",
    "    if ax is None: _, ax = plt.subplots()\n",
    "\n",
    "    for node in graph:\n",
    "        # plot node\n",
    "        x, y = node.embedding\n",
    "        ax.scatter(x, y, s=1000, zorder=2)\n",
    "        ax.text(x, y, node.idx, color='white', ha='center', va='center')\n",
    "        # plot edges\n",
    "        for neighbor in node.neighbors:\n",
    "            x0, y0 = node.embedding\n",
    "            x1, y1 = graph[neighbor].embedding\n",
    "            ax.plot([x0, x1], [y0, y1], color=edge_color, zorder=1)\n",
    "\n",
    "    ax.set_xlim(0, 3)\n",
    "    ax.set_ylim(0, 3)\n",
    "    ax.set_aspect('equal')\n",
    "    plt.axis('off')\n",
    "    # plt.show()\n",
    "\n",
    "\n",
    "graph = [\n",
    "    Node(0, (1, 1), [1, 2]),\n",
    "    Node(1, (2, 2), [0, 2]),\n",
    "    Node(2, (1, 2), [0, 1]),\n",
    "    Node(3, (2, 1), [1]),\n",
    "]\n",
    "\n",
    "plot_nsw(graph)"
   ]
  }
 ],
 "metadata": {
  "kernelspec": {
   "display_name": "Python 3",
   "language": "python",
   "name": "python3"
  },
  "language_info": {
   "codemirror_mode": {
    "name": "ipython",
    "version": 3
   },
   "file_extension": ".py",
   "mimetype": "text/x-python",
   "name": "python",
   "nbconvert_exporter": "python",
   "pygments_lexer": "ipython3",
   "version": "3.10.12"
  }
 },
 "nbformat": 4,
 "nbformat_minor": 2
}
