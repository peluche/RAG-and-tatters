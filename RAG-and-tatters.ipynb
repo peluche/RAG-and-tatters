{
 "cells": [
  {
   "cell_type": "markdown",
   "metadata": {},
   "source": [
    "# RAG and tatters"
   ]
  },
  {
   "cell_type": "markdown",
   "metadata": {},
   "source": [
    "Threadbare implementation of RAG."
   ]
  },
  {
   "cell_type": "markdown",
   "metadata": {},
   "source": [
    "## setup"
   ]
  },
  {
   "cell_type": "code",
   "execution_count": 2,
   "metadata": {},
   "outputs": [
    {
     "name": "stdout",
     "output_type": "stream",
     "text": [
      "Note: you may need to restart the kernel to use updated packages.\n"
     ]
    }
   ],
   "source": [
    "%pip install -q ipywidgets html2text langchain langchain_community sentence-transformers "
   ]
  },
  {
   "cell_type": "code",
   "execution_count": 658,
   "metadata": {},
   "outputs": [],
   "source": [
    "from bs4 import BeautifulSoup\n",
    "from IPython.display import HTML\n",
    "from langchain_community.embeddings import HuggingFaceEmbeddings\n",
    "from matplotlib.animation import FuncAnimation\n",
    "import heapq\n",
    "import html2text\n",
    "import matplotlib.pyplot as plt\n",
    "import numpy as np\n",
    "import random\n",
    "import requests\n",
    "import torch as t"
   ]
  },
  {
   "cell_type": "markdown",
   "metadata": {},
   "source": [
    "### utils"
   ]
  },
  {
   "cell_type": "code",
   "execution_count": 34,
   "metadata": {},
   "outputs": [],
   "source": [
    "def wikipedia_to_markdown(url):\n",
    "    response = requests.get(url)\n",
    "    soup = BeautifulSoup(response.content, 'html.parser')\n",
    "    content = soup.find('div', {'class': 'mw-parser-output'})\n",
    "    return html2text.html2text(str(content))"
   ]
  },
  {
   "cell_type": "markdown",
   "metadata": {},
   "source": [
    "## comparing embeddings"
   ]
  },
  {
   "cell_type": "markdown",
   "metadata": {},
   "source": [
    "I'll use a random off-the-shelf model to generate embeddings. Embeddings are N-dimensional vectors, and can be compared using cosine_distance defined as: `cosine_distance = 1 - cosine_similarity`, with `cosine_similarity` defined as the dot product of the normalized embeddings."
   ]
  },
  {
   "cell_type": "code",
   "execution_count": 637,
   "metadata": {},
   "outputs": [
    {
     "data": {
      "text/plain": [
       "torch.Size([768])"
      ]
     },
     "execution_count": 637,
     "metadata": {},
     "output_type": "execute_result"
    }
   ],
   "source": [
    "def closure():\n",
    "    embeddings = HuggingFaceEmbeddings()\n",
    "    def get_embedding(text):\n",
    "        return t.tensor(embeddings.embed_query(text))\n",
    "    return get_embedding\n",
    "\n",
    "get_embedding = closure()\n",
    "get_embedding('The name of the wind').shape"
   ]
  },
  {
   "cell_type": "code",
   "execution_count": 657,
   "metadata": {},
   "outputs": [],
   "source": [
    "def cosine_similarity(embed1, embed2):\n",
    "    norm_embed1 = embed1 / embed1.norm()\n",
    "    norm_embed2 = embed2 / embed2.norm()\n",
    "    return norm_embed1 @ norm_embed2.T\n",
    "\n",
    "def test_cosine_similarity():\n",
    "    for _ in range(100):\n",
    "        e1 = t.rand(10)\n",
    "        e2 = t.rand(10)\n",
    "        assert cosine_similarity(e1, e2).allclose(t.cosine_similarity(e1, e2, dim=0))\n",
    "        # commutative cs(a, b) == cs(b, a)\n",
    "        assert cosine_similarity(e1, e2).allclose(cosine_similarity(e2, e1))\n",
    "        # identical vectors == 1.0\n",
    "        assert cosine_similarity(e1, e1).allclose(t.tensor([1.]))\n",
    "    # orthogonal vectors == 0.0\n",
    "    assert cosine_similarity(t.tensor([1., 0.]), t.tensor([0., 1.])).allclose(t.tensor([0.]))\n",
    "    # opposite vectors == -1.0\n",
    "    assert cosine_similarity(t.tensor([1., -2.]), t.tensor([-1., 2.])).allclose(t.tensor([-1.]))\n",
    "\n",
    "test_cosine_similarity()"
   ]
  },
  {
   "cell_type": "code",
   "execution_count": 648,
   "metadata": {},
   "outputs": [
    {
     "name": "stdout",
     "output_type": "stream",
     "text": [
      "distance between \"lemon\" and \"lime\" is 0.3547552824020386\n",
      "distance between \"lemon\" and \"tomato\" is 0.504393458366394\n",
      "distance between \"lemon\" and \"rain\" is 0.7150339484214783\n"
     ]
    }
   ],
   "source": [
    "def cosine_distance(embed1, embed2):\n",
    "    return 1 - cosine_similarity(embed1, embed2)\n",
    "\n",
    "lemon = get_embedding('lemons are yellow')\n",
    "lime = get_embedding('limes are green')\n",
    "tomato = get_embedding('tomatoes are red')\n",
    "rain = get_embedding('today is rainy')\n",
    "\n",
    "print(f'distance between \"lemon\" and \"lime\" is {cosine_distance(lemon, lime)}')\n",
    "print(f'distance between \"lemon\" and \"tomato\" is {cosine_distance(lemon, tomato)}')\n",
    "print(f'distance between \"lemon\" and \"rain\" is {cosine_distance(lemon, rain)}')"
   ]
  },
  {
   "cell_type": "markdown",
   "metadata": {},
   "source": [
    "## document chunking"
   ]
  },
  {
   "cell_type": "markdown",
   "metadata": {},
   "source": [
    "One option is to ingest full documents, another is to chunk them into smaller pieces. Let's compare different schemes of document chunking."
   ]
  },
  {
   "cell_type": "code",
   "execution_count": 36,
   "metadata": {},
   "outputs": [],
   "source": [
    "document = wikipedia_to_markdown('https://en.wikipedia.org/wiki/Magician_(fantasy)')"
   ]
  },
  {
   "cell_type": "markdown",
   "metadata": {},
   "source": [
    "### fixed size"
   ]
  },
  {
   "cell_type": "markdown",
   "metadata": {},
   "source": [
    "Split the text into fixed size chunks. For simplicity I'll fix the size in characters, but it would be smarter to split by amount of tokens instead."
   ]
  },
  {
   "cell_type": "code",
   "execution_count": 37,
   "metadata": {},
   "outputs": [
    {
     "data": {
      "text/plain": [
       "['Magicians appearing in fantasy fiction\\n\\nFor other uses, see [Magician\\n(disambiguation)](/wiki/Magici',\n",
       " 'an_\\\\(disambiguation\\\\) \"Magician\\n\\\\(disambiguation\\\\)\") and [Magi (disambiguation)](/wiki/Magi_\\\\(disamb',\n",
       " 'iguation\\\\)\\n\"Magi \\\\(disambiguation\\\\)\").\\n\\n\"Wizard (fantasy)\" redirects here. For other uses, see [Wiza',\n",
       " 'rd\\n(disambiguation)](/wiki/Wizard_\\\\(disambiguation\\\\) \"Wizard\\n\\\\(disambiguation\\\\)\").\\n\\n[![](//upload.wi']"
      ]
     },
     "execution_count": 37,
     "metadata": {},
     "output_type": "execute_result"
    }
   ],
   "source": [
    "def chunk_fixed_size(text, size):\n",
    "    return [text[i:i+size] for i in range(0, len(text), size)]\n",
    "\n",
    "chunks = chunk_fixed_size(document, 100)\n",
    "chunks[:4]"
   ]
  },
  {
   "cell_type": "code",
   "execution_count": 38,
   "metadata": {},
   "outputs": [
    {
     "data": {
      "text/plain": [
       "['Magicians appearing in fantasy fiction\\n\\nFor other uses, see [Magician\\n(disambiguation)](/wiki/Magici',\n",
       " 'iki/Magician_\\\\(disambiguation\\\\) \"Magician\\n\\\\(disambiguation\\\\)\") and [Magi (disambiguation)](/wiki/Mag',\n",
       " '(/wiki/Magi_\\\\(disambiguation\\\\)\\n\"Magi \\\\(disambiguation\\\\)\").\\n\\n\"Wizard (fantasy)\" redirects here. For o',\n",
       " 'ere. For other uses, see [Wizard\\n(disambiguation)](/wiki/Wizard_\\\\(disambiguation\\\\) \"Wizard\\n\\\\(disambi']"
      ]
     },
     "execution_count": 38,
     "metadata": {},
     "output_type": "execute_result"
    }
   ],
   "source": [
    "def chunk_fixed_size_overlap(text, size, overlap):\n",
    "    return [text[i:i+size] for i in range(0, len(text), size - overlap)]\n",
    "\n",
    "chunks = chunk_fixed_size_overlap(document, 100, 10)\n",
    "chunks[:4]"
   ]
  },
  {
   "cell_type": "markdown",
   "metadata": {},
   "source": [
    "### recursive character split"
   ]
  },
  {
   "cell_type": "markdown",
   "metadata": {},
   "source": [
    "Split on a hierarchy of specific landmarks (e.g. `'\\n\\n'`, `'\\n'`, `' '`) until we reach the desired size. This is meant to preserve more structure than simple fixed size split."
   ]
  },
  {
   "cell_type": "code",
   "execution_count": 49,
   "metadata": {},
   "outputs": [
    {
     "data": {
      "text/plain": [
       "['Magicians appearing in fantasy fiction\\n\\n',\n",
       " 'For other uses, see [Magician\\n(disambiguation)](/wiki/Magician_\\\\(disambiguation\\\\) \"Magician\\n',\n",
       " '\\\\(disambiguation\\\\)\") and [Magi (disambiguation)](/wiki/Magi_\\\\(disambiguation\\\\)\\n',\n",
       " '\"Magi \\\\(disambiguation\\\\)\").\\n\\n']"
      ]
     },
     "execution_count": 49,
     "metadata": {},
     "output_type": "execute_result"
    }
   ],
   "source": [
    "def chunk_recursive_character_split(text, size, separators=['\\n\\n', '\\n', ' ']):\n",
    "    if len(text) <= size: return [text]\n",
    "    for separator in separators + ['']:\n",
    "        if (index := text[:size].rfind(separator)) != -1:\n",
    "            index += len(separator)\n",
    "            return [text[:index]] + chunk_recursive_character_split(text[index:], size, separators)\n",
    "\n",
    "chunks = chunk_recursive_character_split(document, 100)\n",
    "chunks[:4]"
   ]
  },
  {
   "cell_type": "markdown",
   "metadata": {},
   "source": [
    "### document specific splitting"
   ]
  },
  {
   "cell_type": "markdown",
   "metadata": {},
   "source": [
    "Split based on the document specific grammar (e.g. markdown, HTML, PDF ...)."
   ]
  },
  {
   "cell_type": "code",
   "execution_count": 40,
   "metadata": {},
   "outputs": [
    {
     "data": {
      "text/plain": [
       "['',\n",
       " '\\n# The Enigmatic Life of Wizard Eldrath\\n',\n",
       " '\\n## Introduction',\n",
       " '\\nEldrath the Wise, a wizard of great renown, has fascinated scholars and adventurers alike with his',\n",
       " ' mysterious powers and secretive nature.\\n',\n",
       " '\\n## Notable Achievements',\n",
       " '\\nEldrath is known for many great deeds, including the discovery of the lost city of Aranthar and',\n",
       " ' the creation of the spell of eternal light.\\n',\n",
       " '```\\ndef eternal_light():\\n    while True:\\n        light_spell.cast()\\n',\n",
       " '```\\nWhich remains one of the most powerful enchantments in existence.\\n']"
      ]
     },
     "execution_count": 40,
     "metadata": {},
     "output_type": "execute_result"
    }
   ],
   "source": [
    "def chunk_markdown(text, size, offset=0):\n",
    "    ''' piggyback on recursive character split for the demo but it should use a markdown parser '''\n",
    "    separators = [\n",
    "        '\\n# ', '\\n## ', '\\n### ', '\\n#### ', '\\n##### ', '\\n###### ', # headings\n",
    "        '```\\n', '\\n\\n', # blocks\n",
    "        '\\n', '`', '[', ']', '(', ')', '*', '_', # inline\n",
    "        ' ', # words\n",
    "    ]\n",
    "    if len(text) <= size: return [text]\n",
    "    for separator in separators + ['']:\n",
    "        if (index := text[offset:size].rfind(separator)) != -1:\n",
    "            index += offset\n",
    "            return [text[:index]] + chunk_markdown(text[index:], size, offset=len(separator))\n",
    "\n",
    "doc = '''\n",
    "# The Enigmatic Life of Wizard Eldrath\n",
    "\n",
    "## Introduction\n",
    "Eldrath the Wise, a wizard of great renown, has fascinated scholars and adventurers alike with his mysterious powers and secretive nature.\n",
    "\n",
    "## Notable Achievements\n",
    "Eldrath is known for many great deeds, including the discovery of the lost city of Aranthar and the creation of the spell of eternal light.\n",
    "```\n",
    "def eternal_light():\n",
    "    while True:\n",
    "        light_spell.cast()\n",
    "```\n",
    "Which remains one of the most powerful enchantments in existence.\n",
    "'''\n",
    "chunks = chunk_markdown(doc, 100)\n",
    "chunks[:10]"
   ]
  },
  {
   "cell_type": "markdown",
   "metadata": {},
   "source": [
    "### semantic splitting"
   ]
  },
  {
   "cell_type": "markdown",
   "metadata": {},
   "source": [
    "Split the document based on meaning. A naive aproach is to split the document into sentences (here I'll re-use recursive character split) compute their embeddings. Use the embeddings to find topics boundary in the text and merge the rest together."
   ]
  },
  {
   "cell_type": "code",
   "execution_count": 119,
   "metadata": {},
   "outputs": [],
   "source": [
    "def cluster_chunks(chunks, indices, size=500):\n",
    "    ''' cluster chunks such that:\n",
    "      - each cluster is smaller or equal to size\n",
    "      - chunks are clustered according to their relative similarities\n",
    "    '''\n",
    "    indices = [i + 1 for i in indices] # shift to the right\n",
    "\n",
    "    def rec(start, end, idx=0):\n",
    "        # shortcircuit if the entire chunk fits\n",
    "        if sum(len(c) for c in chunks[start:end]) <= size:\n",
    "            return [''.join(chunks[start:end])]\n",
    "        for i in range(idx, len(indices)):\n",
    "            index = indices[i]\n",
    "            if start < index < end:\n",
    "                return rec(start, index, i + 1) + rec(index, end, i + 1)\n",
    "    \n",
    "    return rec(0, len(chunks))\n",
    "\n",
    "def test_cluster_chunks_size():\n",
    "    chunks = ['a', 'b', 'c', 'd', 'e', 'f', 'g', 'h', 'i', 'j']\n",
    "    indices = [2, 5, 8, 1, 0, 3, 6, 4, 7]\n",
    "    assert cluster_chunks(chunks, indices, size=1) == ['a', 'b', 'c', 'd', 'e', 'f', 'g', 'h', 'i', 'j']\n",
    "    assert cluster_chunks(chunks, indices, size=2) == ['ab', 'c', 'd', 'ef', 'g', 'hi', 'j']\n",
    "    assert cluster_chunks(chunks, indices, size=3) == ['abc', 'def', 'ghi', 'j']\n",
    "    assert cluster_chunks(chunks, indices, size=4) == ['abc', 'def', 'ghij']\n",
    "    assert cluster_chunks(chunks, indices, size=7) == ['abc', 'defghij']\n",
    "    assert cluster_chunks(chunks, indices, size=10) == ['abcdefghij']\n",
    "\n",
    "test_cluster_chunks_size()"
   ]
  },
  {
   "cell_type": "code",
   "execution_count": 120,
   "metadata": {},
   "outputs": [
    {
     "data": {
      "text/plain": [
       "['Magicians appearing in fantasy fiction\\n\\nFor other uses, see [Magician\\n(disambiguation)](/wiki/Magician_\\\\(disambiguation\\\\) \"Magician\\n\\\\(disambiguation\\\\)\") and [Magi (disambiguation)](/wiki/Magi_\\\\(disambiguation\\\\)\\n\"Magi \\\\(disambiguation\\\\)\").\\n\\n',\n",
       " '\"Wizard (fantasy)\" redirects here. For other uses, see [Wizard\\n(disambiguation)](/wiki/Wizard_\\\\(disambiguation\\\\) \"Wizard\\n\\\\(disambiguation\\\\)\").\\n\\n[![](//upload.wikimedia.org/wikipedia/en/thumb/9/99/Question_book-\\nnew.svg/50px-Question_book-new.svg.png)](/wiki/File:Question_book-new.svg)|\\n',\n",
       " 'This article **needs additional citations\\n',\n",
       " 'for[verification](/wiki/Wikipedia:Verifiability \"Wikipedia:Verifiability\")**.\\n']"
      ]
     },
     "execution_count": 120,
     "metadata": {},
     "output_type": "execute_result"
    }
   ],
   "source": [
    "def chunk_semantic(text, size=100):\n",
    "    mini_chunks = chunk_recursive_character_split(text, size)\n",
    "    embeddings = [get_embedding(c) for c in mini_chunks]\n",
    "    similarities = t.cosine_similarity(t.stack(embeddings[:-1]), t.stack(embeddings[1:]))\n",
    "    _, indices = t.sort(similarities)\n",
    "    return cluster_chunks(mini_chunks, indices)\n",
    "\n",
    "chunks = chunk_semantic(document)\n",
    "chunks[:4]"
   ]
  },
  {
   "cell_type": "markdown",
   "metadata": {},
   "source": [
    "## document retrieval"
   ]
  },
  {
   "cell_type": "code",
   "execution_count": 226,
   "metadata": {},
   "outputs": [],
   "source": [
    "# create a dummy database for our embegginds / chunks pairs\n",
    "def create_db(documents):\n",
    "    chunks = [chunk for document in documents for chunk in chunk_recursive_character_split(document, 100)]\n",
    "    db = t.stack([get_embedding(chunk) for chunk in chunks])\n",
    "    return chunks, db\n",
    "\n",
    "chunks, db = create_db([document])"
   ]
  },
  {
   "cell_type": "markdown",
   "metadata": {},
   "source": [
    "### exhaustive search"
   ]
  },
  {
   "cell_type": "code",
   "execution_count": 157,
   "metadata": {},
   "outputs": [
    {
     "name": "stdout",
     "output_type": "stream",
     "text": [
      "['  * _[Dungeons& Dragons](/wiki/Dungeons_%26_Dragons \"Dungeons & Dragons\")_\\n', 'the _[Dungeons& Dragons](/wiki/Dungeons_%26_Dragons \"Dungeons & Dragons\")_\\n']\n",
      "[]\n",
      "['Pyle_The_Enchanter_Merlin.JPG)_The Enchanter Merlin_ , by [Howard\\n', 'Pyle_The_Enchanter_Merlin.JPG/170px-Arthur-\\nPyle_The_Enchanter_Merlin.JPG)](/wiki/File:Arthur-\\n', '\"Mentor\"), with [Merlin](/wiki/Merlin \"Merlin\") from the [_King Arthur_\\n']\n",
      "['series of books by [J. K. Rowling](/wiki/J._K._Rowling \"J. K. Rowling\").\\n\\n', 'the Rings_ or [Lord Voldemort](/wiki/Lord_Voldemort \"Lord Voldemort\") from\\n', 'Lord of the Rings](/wiki/The_Lord_of_the_Rings \"The Lord of the Rings\")_ and\\n']\n"
     ]
    }
   ],
   "source": [
    "def retrieve(query, k=3, threshold=0.5):\n",
    "    query_embedding = get_embedding(query)\n",
    "    similarities = t.cosine_similarity(db, query_embedding)\n",
    "    values, indices = t.topk(similarities, k=k)\n",
    "    indices = indices[values > threshold]\n",
    "    return [chunks[i] for i in indices]\n",
    "\n",
    "print(retrieve('dnd'))\n",
    "print(retrieve('banana'))\n",
    "print(retrieve('merlin the enchanter'))\n",
    "print(retrieve('harry potter'))"
   ]
  },
  {
   "cell_type": "markdown",
   "metadata": {},
   "source": [
    "### approximate nearest neighborg (ANN): navigable small worlds (NSW)"
   ]
  },
  {
   "cell_type": "markdown",
   "metadata": {},
   "source": [
    "Instead of doing exhaustive search `O(n)` we can perform an approximate nearest neighborg search using a greedy approach with navigable small world `O(log(n))`"
   ]
  },
  {
   "cell_type": "code",
   "execution_count": 420,
   "metadata": {},
   "outputs": [],
   "source": [
    "class Node:\n",
    "    def __init__(self, idx, embedding, neighbors=None):\n",
    "        self.idx = idx\n",
    "        self.embedding = embedding\n",
    "        self.neighbors = set(neighbors) if neighbors else set()\n",
    "\n",
    "    def __lt__(self, other): # add a way to sort nodes to make the heapq happy\n",
    "        return self.idx < other.idx\n",
    "\n",
    "    def __repr__(self):\n",
    "        return f'{self.idx} {self.neighbors=}'\n",
    "\n",
    "def compute_dist(node, target):\n",
    "    return 1 - t.cosine_similarity(node.embedding, target, dim=0)\n",
    "\n",
    "def greedy_nearest_neighbor(graph, node, target, compute_dist=compute_dist):\n",
    "    steps = []\n",
    "    mini = compute_dist(node, target)\n",
    "    \n",
    "    while True:\n",
    "        best = None\n",
    "        for neighbor in node.neighbors:\n",
    "            neighbor = graph[neighbor]\n",
    "            dist = compute_dist(neighbor, target)\n",
    "            if dist < mini:\n",
    "                mini = dist\n",
    "                best = neighbor\n",
    "        steps.append(node.idx)\n",
    "        if not best: return steps, mini, node\n",
    "        node = best\n",
    "\n",
    "def test_greedy_nearest_neighbor():\n",
    "    def mock_dist(node, target):\n",
    "        ''' use the absolute difference as a distance function to make testing easier '''\n",
    "        return abs(node.embedding - target)\n",
    "\n",
    "    # pretend we have 10 nodes in a line:\n",
    "    # - each node is connected to it's 2 closest neighbors and a random further node\n",
    "    # - values are artificially tweeked to prevent ties\n",
    "    # \n",
    "    # e.g. node 1 is connected to nodes 0, 2, 8\n",
    "    # 0--1--2--3--4--5--6--7--8--9\n",
    "    # ↑  |  ↑                 ↑\n",
    "    # └──┤  |                 |\n",
    "    #    ├──┘                 |\n",
    "    #    └────────────────────┘\n",
    "    graph = [\n",
    "        Node(0, 0,           [1, 2, 7]),\n",
    "        Node(1, 1.1,         [0, 2, 8]),\n",
    "        Node(2, 2.01,        [1, 3, 8]),\n",
    "        Node(3, 3.001,       [2, 4, 6]),\n",
    "        Node(4, 4.0001,      [3, 5, 9]),\n",
    "        Node(5, 5.00001,     [4, 6, 2]),\n",
    "        Node(6, 6.000001,    [5, 7, 2]),\n",
    "        Node(7, 7.0000001,   [6, 8, 0]),\n",
    "        Node(8, 8.00000001,  [7, 9, 5]),\n",
    "        Node(9, 9.000000001, [7, 8, 4]),\n",
    "    ]\n",
    "    # don't test distances because floating numbers are messy and it's not important here\n",
    "    steps, _, nearest = greedy_nearest_neighbor(graph, graph[0], 5, mock_dist)\n",
    "    assert (steps, nearest) == ([0, 7, 6, 5], graph[5])\n",
    "    steps, _, nearest = greedy_nearest_neighbor(graph, graph[0], 8, mock_dist)\n",
    "    assert (steps, nearest) == ([0, 7, 8], graph[8])\n",
    "    steps, _, nearest = greedy_nearest_neighbor(graph, graph[3], 3, mock_dist)\n",
    "    assert (steps, nearest) == ([3], graph[3])\n",
    "    steps, _, nearest = greedy_nearest_neighbor(graph, graph[3], 9, mock_dist)\n",
    "    assert (steps, nearest) == ([3, 6, 7, 8, 9], graph[9])\n",
    "    steps, _, nearest = greedy_nearest_neighbor(graph, graph[5], 1, mock_dist)\n",
    "    assert (steps, nearest) == ([5, 2, 1], graph[1])\n",
    "\n",
    "test_greedy_nearest_neighbor()"
   ]
  },
  {
   "cell_type": "code",
   "execution_count": 421,
   "metadata": {},
   "outputs": [],
   "source": [
    "def greedy_k_nearest_neighbors(graph, node, target, k=3, compute_dist=compute_dist):\n",
    "    seen = set([node.idx])\n",
    "    dist = compute_dist(node, target)\n",
    "    nearests = [(-dist, node)] # treat as a maxheap with bounded size `k`\n",
    "    q = [(dist, node)] # minheap\n",
    "    \n",
    "    while q:\n",
    "        _, node = heapq.heappop(q)\n",
    "        for neighbor_idx in node.neighbors:\n",
    "            if neighbor_idx in seen: continue\n",
    "            neighbor = graph[neighbor_idx]\n",
    "            dist = compute_dist(neighbor, target)\n",
    "            if len(nearests) < k:\n",
    "                heapq.heappush(nearests, (-dist, neighbor))\n",
    "            elif dist < -nearests[0][0]:\n",
    "                heapq.heapreplace(nearests, (-dist, neighbor))\n",
    "            else:\n",
    "                continue\n",
    "            seen.add(neighbor_idx)\n",
    "            heapq.heappush(q, (dist, neighbor))\n",
    "    return [n[1] for n in nearests]\n",
    "\n",
    "def test_greedy_k_nearest_neighbors():\n",
    "    def mock_dist(node, target):\n",
    "        ''' use the absolute difference as a distance function to make testing easier '''\n",
    "        return abs(node.embedding - target)\n",
    "\n",
    "    # pretend we have 10 nodes in a line:\n",
    "    # - each node is connected to it's 2 closest neighbors and a random further node\n",
    "    # - values are artificially tweeked to prevent ties\n",
    "    # \n",
    "    # e.g. node 1 is connected to nodes 0, 2, 8\n",
    "    # 0--1--2--3--4--5--6--7--8--9\n",
    "    # ↑  |  ↑                 ↑\n",
    "    # └──┤  |                 |\n",
    "    #    ├──┘                 |\n",
    "    #    └────────────────────┘\n",
    "    graph = [\n",
    "        Node(0, 0,           [1, 2, 7]),\n",
    "        Node(1, 1.1,         [0, 2, 8]),\n",
    "        Node(2, 2.01,        [1, 3, 8]),\n",
    "        Node(3, 3.001,       [2, 4, 6]),\n",
    "        Node(4, 4.0001,      [3, 5, 9]),\n",
    "        Node(5, 5.00001,     [4, 6, 2]),\n",
    "        Node(6, 6.000001,    [5, 7, 2]),\n",
    "        Node(7, 7.0000001,   [6, 8, 0]),\n",
    "        Node(8, 8.00000001,  [7, 9, 5]),\n",
    "        Node(9, 9.000000001, [7, 8, 4]),\n",
    "    ]\n",
    "    # don't test distances because floating numbers are messy and it's not important here\n",
    "    # all the results should match greedy_nearest_neighbor when k=1\n",
    "    for node in range(10):\n",
    "        for target in range(10):\n",
    "            _, _, nearest = greedy_nearest_neighbor(graph, graph[node], target, compute_dist=mock_dist)\n",
    "            nearests = greedy_k_nearest_neighbors(graph, graph[node], target, k=1, compute_dist=mock_dist)\n",
    "            assert nearests == [nearest]\n",
    "\n",
    "    nearests = greedy_k_nearest_neighbors(graph, graph[0], 5, k=3, compute_dist= mock_dist)\n",
    "    assert set(nearests) == set([graph[4], graph[5], graph[6]])\n",
    "    nearests = greedy_k_nearest_neighbors(graph, graph[5], 5, k=3, compute_dist= mock_dist)\n",
    "    assert set(nearests) == set([graph[4], graph[5], graph[6]])\n",
    "    nearests = greedy_k_nearest_neighbors(graph, graph[0], 0, k=4, compute_dist= mock_dist)\n",
    "    assert set(nearests) == set([graph[0], graph[1], graph[2], graph[3]])\n",
    "    nearests = greedy_k_nearest_neighbors(graph, graph[9], 0, k=4, compute_dist= mock_dist)\n",
    "    assert set(nearests) == set([graph[0], graph[1], graph[2], graph[3]])\n",
    "\n",
    "test_greedy_k_nearest_neighbors()"
   ]
  },
  {
   "cell_type": "code",
   "execution_count": 422,
   "metadata": {},
   "outputs": [
    {
     "name": "stdout",
     "output_type": "stream",
     "text": [
      "average_neigbors_count=11.930995475113122\n"
     ]
    }
   ],
   "source": [
    "def build_nsw_graph(db, k_near=3, k_random=3):\n",
    "    '''\n",
    "    build a graph by piggybacking on the KNN search and random nodes for far away connections.\n",
    "    the way it is implemented early nodes will have more neighbors (this is not ideal but it'll do for a toy example).\n",
    "    '''\n",
    "    graph = []\n",
    "    # create node and add approximate nearest neighbors\n",
    "    for idx, embedding in enumerate(db):\n",
    "        node = Node(idx, embedding)\n",
    "        graph.append(node)\n",
    "        if not idx: continue\n",
    "        start_node = graph[random.randint(0, idx - 1)]\n",
    "        nearests = greedy_k_nearest_neighbors(graph, start_node, embedding, k=k_near)\n",
    "        for near in nearests:\n",
    "            node.neighbors.add(near.idx)\n",
    "            near.neighbors.add(idx)\n",
    "    # add random connections\n",
    "    for idx in range(len(db)):\n",
    "        for _ in range(k_random):\n",
    "            neighbor = random.randint(0, len(db) - 1)\n",
    "            graph[idx].neighbors.add(neighbor)\n",
    "            graph[neighbor].neighbors.add(idx)\n",
    "    return graph\n",
    "\n",
    "graph = build_nsw_graph(db)\n",
    "average_neigbors_count = sum([len(node.neighbors) for node in graph]) / len(graph)\n",
    "print(f'{average_neigbors_count=}')"
   ]
  },
  {
   "cell_type": "code",
   "execution_count": 423,
   "metadata": {},
   "outputs": [
    {
     "name": "stdout",
     "output_type": "stream",
     "text": [
      "['  * _[Dungeons& Dragons](/wiki/Dungeons_%26_Dragons \"Dungeons & Dragons\")_\\n', 'the _[Dungeons& Dragons](/wiki/Dungeons_%26_Dragons \"Dungeons & Dragons\")_\\n']\n",
      "[]\n",
      "['\"Mentor\"), with [Merlin](/wiki/Merlin \"Merlin\") from the [_King Arthur_\\n', 'Pyle_The_Enchanter_Merlin.JPG)_The Enchanter Merlin_ , by [Howard\\n', 'Pyle_The_Enchanter_Merlin.JPG/170px-Arthur-\\nPyle_The_Enchanter_Merlin.JPG)](/wiki/File:Arthur-\\n']\n",
      "['Rowling](/wiki/J._K._Rowling \"J. K. Rowling\")\\'s _Harry Potter_ novels or\\n', 'series of books by [J. K. Rowling](/wiki/J._K._Rowling \"J. K. Rowling\").\\n\\n', 'the Rings_ or [Lord Voldemort](/wiki/Lord_Voldemort \"Lord Voldemort\") from\\n']\n"
     ]
    }
   ],
   "source": [
    "def nsw_retrieve(query, k=3, threshold=0.5):\n",
    "    query_embedding = get_embedding(query)\n",
    "    start_node = graph[random.randint(0, len(graph) - 1)]\n",
    "    nearests = greedy_k_nearest_neighbors(graph, start_node, query_embedding, k=k)\n",
    "    res = []\n",
    "    for near in nearests:\n",
    "        if compute_dist(near, query_embedding) > threshold: continue\n",
    "        res.append(chunks[near.idx])\n",
    "    return res\n",
    "\n",
    "print(nsw_retrieve('dnd'))\n",
    "print(nsw_retrieve('banana'))\n",
    "print(nsw_retrieve('merlin the enchanter'))\n",
    "print(nsw_retrieve('harry potter'))"
   ]
  },
  {
   "cell_type": "markdown",
   "metadata": {},
   "source": [
    "#### plot"
   ]
  },
  {
   "cell_type": "code",
   "execution_count": 624,
   "metadata": {},
   "outputs": [
    {
     "data": {
      "image/png": "[encoded data removed]",
      "text/plain": [
       "<Figure size 640x480 with 1 Axes>"
      ]
     },
     "metadata": {},
     "output_type": "display_data"
    },
    {
     "data": {
      "image/png": "[encoded data removed]",
      "text/plain": [
       "<Figure size 640x480 with 1 Axes>"
      ]
     },
     "metadata": {},
     "output_type": "display_data"
    },
    {
     "data": {
      "image/png": "[encoded data removed]",
      "text/plain": [
       "<Figure size 640x480 with 1 Axes>"
      ]
     },
     "metadata": {},
     "output_type": "display_data"
    }
   ],
   "source": [
    "def plot_nsw(graph, hl_nodes=[], hl_edges=[], ll_nodes=[], ll_edges=[], border_nodes=[], hl_border_nodes=[], target=None, doted_start=None, xlim=None, ylim=None, ax=None):\n",
    "    if ax is None: _, ax = plt.subplots()\n",
    "    ax.clear()\n",
    "    for spine in ax.spines.values():\n",
    "        spine.set_visible(False)\n",
    "    ax.set_xticks([])\n",
    "    ax.set_yticks([])\n",
    "    plt.axis('off')\n",
    "    ax.set_aspect('equal')\n",
    "\n",
    "    def _border(idx):\n",
    "        if idx in hl_border_nodes:\n",
    "            return {\n",
    "                'edgecolors': 'yellow',\n",
    "                'linewidths': 3,\n",
    "            }\n",
    "        if idx in border_nodes:\n",
    "            return {\n",
    "                'edgecolors': 'purple',\n",
    "                'linewidths': 3,\n",
    "            }\n",
    "        return {}\n",
    "\n",
    "    # draw graph\n",
    "    for node in graph:\n",
    "        # plot node\n",
    "        x, y = node.embedding\n",
    "        ax.scatter(x, y, s=1000, zorder=2, **_border(node.idx))\n",
    "        ax.text(x, y, node.idx, color='white', ha='center', va='center')\n",
    "        # plot edges\n",
    "        for neighbor in node.neighbors:\n",
    "            x0, y0 = node.embedding\n",
    "            x1, y1 = graph[neighbor].embedding\n",
    "            ax.plot([x0, x1], [y0, y1], color='black', zorder=1)\n",
    "\n",
    "    # draw target\n",
    "    if target:\n",
    "        ax.plot(*target, markersize=10, marker=\"x\", color='k', mew=5)\n",
    "        if doted_start:\n",
    "            start = graph[doted_start].embedding\n",
    "            x_values = [start[0], target[0]]\n",
    "            y_values = [start[1], target[1]]\n",
    "            ax.plot(x_values, y_values, linestyle=':', color='black')\n",
    "\n",
    "    # draw lowlights\n",
    "    for node in ll_nodes:\n",
    "        x, y = graph[node].embedding\n",
    "        ax.scatter(x, y, color='black', s=1000, zorder=2, **_border(node))\n",
    "\n",
    "    for node, neighbor in ll_edges:\n",
    "        x0, y0 = graph[node].embedding\n",
    "        x1, y1 = graph[neighbor].embedding\n",
    "        ax.plot([x0, x1], [y0, y1], color='grey', zorder=1)\n",
    "\n",
    "    # draw highlights\n",
    "    for node in hl_nodes:\n",
    "        x, y = graph[node].embedding\n",
    "        node_color = plt.rcParams['axes.prop_cycle'].by_key()['color'][node]\n",
    "        ax.scatter(x, y, color=node_color, s=2000, zorder=2, **_border(node))\n",
    "            \n",
    "    for node, neighbor in hl_edges:\n",
    "        x0, y0 = graph[node].embedding\n",
    "        x1, y1 = graph[neighbor].embedding\n",
    "        ax.plot([x0, x1], [y0, y1], color='red', linewidth=3, zorder=1)\n",
    "\n",
    "    if xlim: ax.set_xlim(*xlim)\n",
    "    else: ax.set_xlim(min(node.embedding[0] for node in graph) - 1, max(node.embedding[0] for node in graph) + 1)\n",
    "    if ylim: ax.set_ylim(*ylim)\n",
    "    else: ax.set_ylim(min(node.embedding[1] for node in graph) - 1, max(node.embedding[1] for node in graph) + 1)\n",
    "\n",
    "def scope():\n",
    "    graph = [\n",
    "        Node(0, (1, 1), [1, 2]),\n",
    "        Node(1, (2, 2), [0, 2]),\n",
    "        Node(2, (1, 2), [0, 1]),\n",
    "        Node(3, (2, 1), [1]),\n",
    "    ]\n",
    "    plot_nsw(graph)\n",
    "    plot_nsw(graph, hl_nodes=[2], hl_edges=[(2, 1)])\n",
    "    plot_nsw(graph, hl_nodes=[1], hl_edges=[(2, 1)])\n",
    "\n",
    "scope()"
   ]
  },
  {
   "cell_type": "code",
   "execution_count": 623,
   "metadata": {},
   "outputs": [
    {
     "name": "stdout",
     "output_type": "stream",
     "text": [
      "[(3.0, 0.0), (2.4270509831248424, 1.7633557568774194), (0.9270509831248424, 2.8531695488854605), (-0.927050983124842, 2.853169548885461), (-2.427050983124842, 1.7633557568774196), (-3.0, 3.6739403974420594e-16), (-2.427050983124843, -1.7633557568774192), (-0.9270509831248427, -2.8531695488854605), (0.9270509831248417, -2.853169548885461), (2.427050983124842, -1.76335575687742)]\n"
     ]
    },
    {
     "data": {
      "image/png": "[encoded data removed]",
      "text/plain": [
       "<Figure size 640x480 with 1 Axes>"
      ]
     },
     "metadata": {},
     "output_type": "display_data"
    },
    {
     "data": {
      "image/png": "[encoded data removed]",
      "text/plain": [
       "<Figure size 640x480 with 1 Axes>"
      ]
     },
     "metadata": {},
     "output_type": "display_data"
    }
   ],
   "source": [
    "def generate_circle_points(r, cx=0, cy=0, num_points=10):\n",
    "    # Create an array of angles\n",
    "    angles = np.linspace(0, 2 * np.pi, num_points + 1)[:-1]\n",
    "    \n",
    "    # Calculate the x and y coordinates\n",
    "    x = cx + r * np.cos(angles)\n",
    "    y = cy + r * np.sin(angles)\n",
    "    \n",
    "    return list(zip(x, y))\n",
    "\n",
    "points = generate_circle_points(r=3)\n",
    "print(points)\n",
    "\n",
    "# graph = [Node(idx, pos, [random.randint(0, 9), random.randint(0, 9)]) for idx, pos in enumerate(points)]\n",
    "graph = [Node(idx, pos) for idx, pos in enumerate(points)]\n",
    "plot_nsw(graph)\n",
    "plot_nsw(graph, hl_nodes=[0, 4, 8, 7])"
   ]
  },
  {
   "cell_type": "markdown",
   "metadata": {},
   "source": [
    "##### build NSW"
   ]
  },
  {
   "cell_type": "code",
   "execution_count": null,
   "metadata": {},
   "outputs": [],
   "source": [
    "def euclidean_dist(node, target):\n",
    "    return (node.embedding[0] - target[0])**2 + (node.embedding[1] - target[1])**2\n",
    "\n",
    "def plot_build_nsw_graph(db, k_near=1, k_random=1, kw={}, graph=None):\n",
    "    '''\n",
    "    build a graph by piggybacking on the KNN search and random nodes for far away connections.\n",
    "    the way it is implemented early nodes will have more neighbors (this is not ideal but it'll do for a toy example).\n",
    "    '''\n",
    "    if graph is None: graph = []\n",
    "    # create node and add approximate nearest neighbors\n",
    "    for idx, embedding in enumerate(db):\n",
    "        node = Node(idx, embedding)\n",
    "        graph.append(node)\n",
    "        yield plot_nsw(graph, hl_nodes=[node.idx], **kw)\n",
    "        yield plot_nsw(graph, **kw)\n",
    "        if not idx: continue\n",
    "        start_node = graph[random.randint(0, idx - 1)]\n",
    "        nearests = greedy_k_nearest_neighbors(graph, start_node, embedding, k=k_near, compute_dist=euclidean_dist)\n",
    "        for near in nearests:\n",
    "            node.neighbors.add(near.idx)\n",
    "            near.neighbors.add(idx)\n",
    "            yield plot_nsw(graph, hl_edges=[(node.idx, near.idx)], **kw)\n",
    "            yield plot_nsw(graph, **kw)\n",
    "    # add random connections\n",
    "    for idx in range(len(db)):\n",
    "        for _ in range(k_random):\n",
    "            neighbor = random.randint(0, len(db) - 1)\n",
    "            graph[idx].neighbors.add(neighbor)\n",
    "            graph[neighbor].neighbors.add(idx)\n",
    "            yield plot_nsw(graph, hl_edges=[(idx, neighbor)], **kw)\n",
    "            yield plot_nsw(graph, **kw)\n",
    "    for _ in range(2):\n",
    "        yield plot_nsw(graph, **kw)\n",
    "\n",
    "# shuffle the order of points\n",
    "pts = list(points)\n",
    "random.shuffle(pts)\n",
    "\n",
    "# graph = []\n",
    "# for _ in plot_build_nsw_graph(pts, kw={'xlim':(-4, 4), 'ylim':(-4, 4)}, graph=graph): pass\n",
    "# average_neigbors_count = sum([len(node.neighbors) for node in graph]) / len(graph)\n",
    "# print(f'{average_neigbors_count=}')"
   ]
  },
  {
   "cell_type": "markdown",
   "metadata": {},
   "source": [
    "###### animation"
   ]
  },
  {
   "cell_type": "code",
   "execution_count": 621,
   "metadata": {},
   "outputs": [
    {
     "name": "stderr",
     "output_type": "stream",
     "text": [
      "/tmp/ipykernel_478196/4244928096.py:10: UserWarning: frames=<generator object plot_build_nsw_graph at 0x7f9dbbc88e40> which we can infer the length of, did not pass an explicit *save_count* and passed cache_frame_data=True.  To avoid a possibly unbounded cache, frame data caching has been disabled. To suppress this warning either pass `cache_frame_data=False` or `save_count=MAX_FRAMES`.\n",
      "  ani = FuncAnimation(fig, update, frames=frames, init_func=init, interval=1000, repeat=False)\n",
      "MovieWriter ffmpeg unavailable; using Pillow instead.\n"
     ]
    },
    {
     "data": {
      "image/png": "[encoded data removed]",
      "text/plain": [
       "<Figure size 400x400 with 1 Axes>"
      ]
     },
     "metadata": {},
     "output_type": "display_data"
    }
   ],
   "source": [
    "random.seed(42) # reproducibility\n",
    "fig, ax = plt.subplots(figsize=(4, 4))\n",
    "fig.tight_layout()\n",
    "fig.subplots_adjust(left=0, right=1, top=1, bottom=0)\n",
    "def init(): return ax,\n",
    "def update(data): return ax,\n",
    "graph = []\n",
    "frames = plot_build_nsw_graph(pts, kw={'xlim':(-4, 4), 'ylim':(-4, 4), 'ax':ax}, graph=graph)\n",
    "ani = FuncAnimation(fig, update, frames=frames, init_func=init, interval=1000, repeat=False)\n",
    "_ = display(HTML(ani.to_jshtml()))\n",
    "# _ = ani.save('imgs/build.gif', fps=2)"
   ]
  },
  {
   "cell_type": "markdown",
   "metadata": {},
   "source": [
    "##### greedy KNN"
   ]
  },
  {
   "cell_type": "code",
   "execution_count": 617,
   "metadata": {},
   "outputs": [],
   "source": [
    "def plot_greedy_k_nearest_neighbors(graph, node, target, k=2, compute_dist=compute_dist, kw={}):\n",
    "    seen = set([node.idx])\n",
    "    display_seen = set()\n",
    "    dist = compute_dist(node, target)\n",
    "    nearests = [(-dist, node)] # treat as a maxheap with bounded size `k`\n",
    "    q = [(dist, node)] # minheap\n",
    "\n",
    "    def _kw():\n",
    "        return {\n",
    "            'target': target,\n",
    "            'll_nodes': display_seen,\n",
    "            'border_nodes': [node[1].idx for node in nearests],\n",
    "            **kw,\n",
    "        }\n",
    "\n",
    "    yield plot_nsw(graph, **_kw())\n",
    "    while q:\n",
    "        _, node = heapq.heappop(q)\n",
    "        display_seen.add(node.idx)\n",
    "        yield plot_nsw(graph, hl_nodes=[node.idx], **_kw())\n",
    "        for neighbor_idx in node.neighbors:\n",
    "            if neighbor_idx in seen: continue\n",
    "            yield plot_nsw(graph, hl_nodes=[node.idx], hl_edges=[(node.idx, neighbor_idx)], **_kw())\n",
    "            neighbor = graph[neighbor_idx]\n",
    "            dist = compute_dist(neighbor, target)\n",
    "            yield plot_nsw(graph, hl_nodes=[node.idx], hl_edges=[(node.idx, neighbor_idx)], doted_start=neighbor_idx, **_kw())\n",
    "            if len(nearests) < k:\n",
    "                heapq.heappush(nearests, (-dist, neighbor))\n",
    "                yield plot_nsw(graph, hl_nodes=[node.idx], hl_edges=[(node.idx, neighbor_idx)], doted_start=neighbor_idx, hl_border_nodes=[neighbor_idx], **_kw())\n",
    "                yield plot_nsw(graph, hl_nodes=[node.idx], hl_edges=[(node.idx, neighbor_idx)], doted_start=neighbor_idx, **_kw())\n",
    "            elif dist < -nearests[0][0]:\n",
    "                heapq.heapreplace(nearests, (-dist, neighbor))\n",
    "                yield plot_nsw(graph, hl_nodes=[node.idx], hl_edges=[(node.idx, neighbor_idx)], doted_start=neighbor_idx, hl_border_nodes=[neighbor_idx], **_kw())\n",
    "                yield plot_nsw(graph, hl_nodes=[node.idx], hl_edges=[(node.idx, neighbor_idx)], doted_start=neighbor_idx, **_kw())\n",
    "            else:\n",
    "                continue\n",
    "            seen.add(neighbor_idx)\n",
    "            heapq.heappush(q, (dist, neighbor))\n",
    "    \n",
    "    yield plot_nsw(graph, **_kw())\n",
    "    for _ in range(3):\n",
    "        yield plot_nsw(graph, hl_nodes=[n[1].idx for n in nearests], **_kw())\n",
    "        yield plot_nsw(graph, hl_nodes=[n[1].idx for n in nearests], hl_border_nodes=[n[1].idx for n in nearests], **_kw())\n",
    "    return [n[1] for n in nearests]\n",
    "\n",
    "# gen = plot_greedy_k_nearest_neighbors(graph, graph[0], (2, 3), compute_dist=euclidean_dist, kw={'xlim':(-4, 4), 'ylim':(-4, 4)})\n",
    "# for _ in enumerate(gen): pass"
   ]
  },
  {
   "cell_type": "markdown",
   "metadata": {},
   "source": [
    "###### animation"
   ]
  },
  {
   "cell_type": "code",
   "execution_count": 622,
   "metadata": {},
   "outputs": [
    {
     "name": "stderr",
     "output_type": "stream",
     "text": [
      "/tmp/ipykernel_478196/3065561499.py:8: UserWarning: frames=<generator object plot_greedy_k_nearest_neighbors at 0x7f9dbd549000> which we can infer the length of, did not pass an explicit *save_count* and passed cache_frame_data=True.  To avoid a possibly unbounded cache, frame data caching has been disabled. To suppress this warning either pass `cache_frame_data=False` or `save_count=MAX_FRAMES`.\n",
      "  ani = FuncAnimation(fig, update, frames=frames, init_func=init, interval=1000, repeat=False)\n",
      "MovieWriter ffmpeg unavailable; using Pillow instead.\n"
     ]
    },
    {
     "data": {
      "image/png": "[encoded data removed]",
      "text/plain": [
       "<Figure size 400x400 with 1 Axes>"
      ]
     },
     "metadata": {},
     "output_type": "display_data"
    }
   ],
   "source": [
    "random.seed(42) # reproducibility\n",
    "fig, ax = plt.subplots(figsize=(4, 4))\n",
    "fig.tight_layout()\n",
    "fig.subplots_adjust(left=0, right=1, top=1, bottom=0)\n",
    "def init(): return ax,\n",
    "def update(data): return ax,\n",
    "frames = plot_greedy_k_nearest_neighbors(graph, graph[0], (2, 3), compute_dist=euclidean_dist, kw={'xlim':(-4, 4), 'ylim':(-4, 4), 'ax':ax})\n",
    "ani = FuncAnimation(fig, update, frames=frames, init_func=init, interval=1000, repeat=False)\n",
    "\n",
    "_ = display(HTML(ani.to_jshtml()))\n",
    "# _ = ani.save('imgs/knn.gif', fps=2)"
   ]
  }
 ],
 "metadata": {
  "kernelspec": {
   "display_name": "Python 3",
   "language": "python",
   "name": "python3"
  },
  "language_info": {
   "codemirror_mode": {
    "name": "ipython",
    "version": 3
   },
   "file_extension": ".py",
   "mimetype": "text/x-python",
   "name": "python",
   "nbconvert_exporter": "python",
   "pygments_lexer": "ipython3",
   "version": "3.10.12"
  }
 },
 "nbformat": 4,
 "nbformat_minor": 2
}
